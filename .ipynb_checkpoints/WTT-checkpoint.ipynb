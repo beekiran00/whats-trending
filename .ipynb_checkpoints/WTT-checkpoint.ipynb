{
 "cells": [
  {
   "cell_type": "markdown",
   "id": "780e7594",
   "metadata": {},
   "source": [
    "# Importing Libraries"
   ]
  },
  {
   "cell_type": "code",
   "execution_count": 1,
   "id": "c8b14033",
   "metadata": {},
   "outputs": [],
   "source": [
    "import sys\n",
    "import tweepy\n",
    "import matplotlib.pyplot as plt\n",
    "import pandas as pd\n",
    "import numpy as np\n",
    "import os\n",
    "import nltk\n",
    "import pycountry\n",
    "import re\n",
    "import string\n",
    "\n",
    "from wordcloud import WordCloud, STOPWORDS\n",
    "from PIL import Image\n",
    "from nltk.sentiment.vader import SentimentIntensityAnalyzer\n",
    "from langdetect import detect\n",
    "from nltk.stem import SnowballStemmer\n",
    "from nltk.sentiment.vader import SentimentIntensityAnalyzer\n",
    "from sklearn.feature_extraction.text import CountVectorizer"
   ]
  },
  {
   "cell_type": "markdown",
   "id": "2bcf219e",
   "metadata": {},
   "source": [
    "## Keys and Codes"
   ]
  },
  {
   "cell_type": "code",
   "execution_count": 2,
   "id": "2d823250",
   "metadata": {},
   "outputs": [],
   "source": [
    "\n",
    "\n",
    "api_key = \"eguQl746QmtmloSgnecccn7oi\"\n",
    "api_key_secret = \"b7HJ4bKwXhegCGfQIf7l6MmQnxZTqzdiZOdfWCuUVZt2Aajoqk\"\n",
    "bearer_token = \"AAAAAAAAAAAAAAAAAAAAAFPwZAEAAAAAyVNk5e2tvY9Gzpzua6eIk6mBLK8%3DAvz2WxBeTFSAa3WLt289pSnCPjyEoAAIdN7HPWlVAiLqdaZFvj\"\n"
   ]
  },
  {
   "cell_type": "code",
   "execution_count": 3,
   "id": "1986362e",
   "metadata": {},
   "outputs": [],
   "source": [
    "#consumer_key =\n",
    "#consumer_secret =\n",
    "access_token = \"1237432566669402112-xXfUTkujrgSILx80fwhYGShROUgoi0\"\n",
    "access_token_secret = \"gFFXcN1YxUCFRI6vJMRcCMsY13bcIAVq6NEFdKFOyEhHy\"\n",
    "\n"
   ]
  },
  {
   "cell_type": "code",
   "execution_count": 4,
   "id": "703c7394",
   "metadata": {},
   "outputs": [],
   "source": [
    "auth = tweepy.OAuthHandler(api_key, api_key_secret)"
   ]
  },
  {
   "cell_type": "code",
   "execution_count": 5,
   "id": "cf147cd3",
   "metadata": {},
   "outputs": [],
   "source": [
    "auth.set_access_token(access_token, access_token_secret)\n",
    "api = tweepy.API(auth)"
   ]
  },
  {
   "cell_type": "code",
   "execution_count": 6,
   "id": "c9843b1b",
   "metadata": {},
   "outputs": [],
   "source": [
    "tweet_list=[]"
   ]
  },
  {
   "cell_type": "markdown",
   "id": "556c3888",
   "metadata": {},
   "source": [
    "# Access tweets "
   ]
  },
  {
   "cell_type": "code",
   "execution_count": 7,
   "id": "fff2222d",
   "metadata": {},
   "outputs": [],
   "source": [
    "## Create a dataframe to store the tweets which have been accessed\n",
    "\n",
    "data={'Tweets':[],'Tags':[],'Cleaned Tweets':[],'Sentiment':[],'Polarity':[],\n",
    "      'Vader Pos':[],'Vader Neg':[],'Vader Neu':[],'Vader Compound':[],'Subjectivity':[],'Subject':[]}\n",
    "df={'Tweets':[]}\n",
    "data_nltk={'Tweets':[],'Cleaned Tweets':[],'Tokenized':[]}"
   ]
  },
  {
   "cell_type": "code",
   "execution_count": 8,
   "id": "fad90f12",
   "metadata": {},
   "outputs": [],
   "source": [
    "def get_tweets(search,limit):\n",
    "    for tweet in tweepy.Cursor(api.search_tweets,q=search,count=limit,lang=\"en\",rpp=100).items(limit):\n",
    "        df['Tweets'].append(tweet.text)#appends the tweet parsed into df Tweet column"
   ]
  },
  {
   "cell_type": "code",
   "execution_count": 9,
   "id": "94795829",
   "metadata": {},
   "outputs": [
    {
     "name": "stderr",
     "output_type": "stream",
     "text": [
      "Unexpected parameter: rpp\n"
     ]
    }
   ],
   "source": [
    "get_tweets('kanye',100)"
   ]
  },
  {
   "cell_type": "code",
   "execution_count": 10,
   "id": "11983dbd",
   "metadata": {},
   "outputs": [],
   "source": [
    "df=pd.DataFrame(df)"
   ]
  },
  {
   "cell_type": "code",
   "execution_count": 11,
   "id": "0bbb8685",
   "metadata": {},
   "outputs": [
    {
     "data": {
      "text/html": [
       "<div>\n",
       "<style scoped>\n",
       "    .dataframe tbody tr th:only-of-type {\n",
       "        vertical-align: middle;\n",
       "    }\n",
       "\n",
       "    .dataframe tbody tr th {\n",
       "        vertical-align: top;\n",
       "    }\n",
       "\n",
       "    .dataframe thead th {\n",
       "        text-align: right;\n",
       "    }\n",
       "</style>\n",
       "<table border=\"1\" class=\"dataframe\">\n",
       "  <thead>\n",
       "    <tr style=\"text-align: right;\">\n",
       "      <th></th>\n",
       "      <th>Tweets</th>\n",
       "    </tr>\n",
       "  </thead>\n",
       "  <tbody>\n",
       "    <tr>\n",
       "      <th>0</th>\n",
       "      <td>RT @TSwiftFTC: Fun Fact: Kanye West has mentio...</td>\n",
       "    </tr>\n",
       "    <tr>\n",
       "      <th>1</th>\n",
       "      <td>RT @thoughtfulbae: “I’m saying nigga as a comp...</td>\n",
       "    </tr>\n",
       "    <tr>\n",
       "      <th>2</th>\n",
       "      <td>RT @raptvcom: Apple pulled $2 million and spon...</td>\n",
       "    </tr>\n",
       "    <tr>\n",
       "      <th>3</th>\n",
       "      <td>RT @TSwiftFTC: Fun Fact: Kanye West has mentio...</td>\n",
       "    </tr>\n",
       "    <tr>\n",
       "      <th>4</th>\n",
       "      <td>RT @dondatimes: Kanye watching his own documen...</td>\n",
       "    </tr>\n",
       "    <tr>\n",
       "      <th>...</th>\n",
       "      <td>...</td>\n",
       "    </tr>\n",
       "    <tr>\n",
       "      <th>95</th>\n",
       "      <td>RT @GingerMinaj: Ok this guy been showing Nick...</td>\n",
       "    </tr>\n",
       "    <tr>\n",
       "      <th>96</th>\n",
       "      <td>Like what the people say is Nicki best verse i...</td>\n",
       "    </tr>\n",
       "    <tr>\n",
       "      <th>97</th>\n",
       "      <td>RT @TheToluDaniels_: if they ever make a kanye...</td>\n",
       "    </tr>\n",
       "    <tr>\n",
       "      <th>98</th>\n",
       "      <td>It’s KIM K living her best life while kanye in...</td>\n",
       "    </tr>\n",
       "    <tr>\n",
       "      <th>99</th>\n",
       "      <td>RT @mic: It's a no from me. https://t.co/T4No9...</td>\n",
       "    </tr>\n",
       "  </tbody>\n",
       "</table>\n",
       "<p>100 rows × 1 columns</p>\n",
       "</div>"
      ],
      "text/plain": [
       "                                               Tweets\n",
       "0   RT @TSwiftFTC: Fun Fact: Kanye West has mentio...\n",
       "1   RT @thoughtfulbae: “I’m saying nigga as a comp...\n",
       "2   RT @raptvcom: Apple pulled $2 million and spon...\n",
       "3   RT @TSwiftFTC: Fun Fact: Kanye West has mentio...\n",
       "4   RT @dondatimes: Kanye watching his own documen...\n",
       "..                                                ...\n",
       "95  RT @GingerMinaj: Ok this guy been showing Nick...\n",
       "96  Like what the people say is Nicki best verse i...\n",
       "97  RT @TheToluDaniels_: if they ever make a kanye...\n",
       "98  It’s KIM K living her best life while kanye in...\n",
       "99  RT @mic: It's a no from me. https://t.co/T4No9...\n",
       "\n",
       "[100 rows x 1 columns]"
      ]
     },
     "execution_count": 11,
     "metadata": {},
     "output_type": "execute_result"
    }
   ],
   "source": [
    "df"
   ]
  },
  {
   "cell_type": "markdown",
   "id": "ee6fe0a9",
   "metadata": {},
   "source": [
    "# TODO: When accessing tweets clean them and append them to df for ease of use"
   ]
  },
  {
   "cell_type": "code",
   "execution_count": 13,
   "id": "03e7e1e2",
   "metadata": {},
   "outputs": [],
   "source": [
    "## Data Preprocessing\n",
    "\n",
    "def process(tweet):\n",
    "    #remove the punctuation\n",
    "    clean=[char for char in text if char not in string.punctuation]\n",
    "    #join the chars after removing the punch\n",
    "    clean=''.join(clean)\n",
    "    clean=clean.lower()\n",
    "    #remove the URLs if any\n",
    "    clean=re.sub('((www\\.[^\\s]+)|(https?://[^\\s]+)|(http?://[^\\s]+))', '', clean)\n",
    "    clean=re.sub(r'http\\S+','',clean)\n",
    "    #remove usernames\n",
    "    clean=re.sub(r'@[^\\s]+)','',clean)\n",
    "    #removing the hashtags\n",
    "    clean=re.sub(r'#([^\\s]+)',r'\\1',clean)\n",
    "    #removing RT\n",
    "    clean=re.sub(r'rt','',clean)\n",
    "    #remove repeated chars\n",
    "    clean=word_tokenize(clean)\n",
    "    #remove stop words\n",
    "    return[word for word in clean if word not in stopwords.words('english')]\n",
    "    \n",
    "\n",
    "    "
   ]
  }
 ],
 "metadata": {
  "kernelspec": {
   "display_name": "Python 3",
   "language": "python",
   "name": "python3"
  },
  "language_info": {
   "codemirror_mode": {
    "name": "ipython",
    "version": 3
   },
   "file_extension": ".py",
   "mimetype": "text/x-python",
   "name": "python",
   "nbconvert_exporter": "python",
   "pygments_lexer": "ipython3",
   "version": "3.8.8"
  }
 },
 "nbformat": 4,
 "nbformat_minor": 5
}
