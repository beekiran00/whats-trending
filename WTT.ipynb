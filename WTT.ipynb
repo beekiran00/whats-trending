{
 "cells": [
  {
   "cell_type": "markdown",
   "id": "780e7594",
   "metadata": {},
   "source": [
    "# Importing Libraries"
   ]
  },
  {
   "cell_type": "code",
   "execution_count": 6,
   "id": "c8b14033",
   "metadata": {},
   "outputs": [],
   "source": [
    "import sys\n",
    "import tweepy\n",
    "import matplotlib.pyplot as plt\n",
    "import pandas as pd\n",
    "import numpy as np\n",
    "import os\n",
    "import nltk\n",
    "import pycountry\n",
    "import re\n",
    "import string\n",
    "\n",
    "from wordcloud import WordCloud, STOPWORDS\n",
    "from PIL import Image\n",
    "from nltk.sentiment.vader import SentimentIntensityAnalyzer\n",
    "from langdetect import detect\n",
    "from nltk.stem import SnowballStemmer\n",
    "from nltk.sentiment.vader import SentimentIntensityAnalyzer\n",
    "from sklearn.feature_extraction.text import CountVectorizer"
   ]
  },
  {
   "cell_type": "markdown",
   "id": "2bcf219e",
   "metadata": {},
   "source": [
    "## Keys and Codes"
   ]
  },
  {
   "cell_type": "code",
   "execution_count": 7,
   "id": "2d823250",
   "metadata": {},
   "outputs": [],
   "source": [
    "\n",
    "\n",
    "api_key = \"eguQl746QmtmloSgnecccn7oi\"\n",
    "api_key_secret = \"b7HJ4bKwXhegCGfQIf7l6MmQnxZTqzdiZOdfWCuUVZt2Aajoqk\"\n",
    "bearer_token = \"AAAAAAAAAAAAAAAAAAAAAFPwZAEAAAAAyVNk5e2tvY9Gzpzua6eIk6mBLK8%3DAvz2WxBeTFSAa3WLt289pSnCPjyEoAAIdN7HPWlVAiLqdaZFvj\"\n"
   ]
  },
  {
   "cell_type": "code",
   "execution_count": 8,
   "id": "1986362e",
   "metadata": {},
   "outputs": [],
   "source": [
    "#consumer_key =\n",
    "#consumer_secret =\n",
    "access_token = \"1237432566669402112-xXfUTkujrgSILx80fwhYGShROUgoi0\"\n",
    "access_token_secret = \"gFFXcN1YxUCFRI6vJMRcCMsY13bcIAVq6NEFdKFOyEhHy\"\n",
    "\n"
   ]
  },
  {
   "cell_type": "code",
   "execution_count": 9,
   "id": "703c7394",
   "metadata": {},
   "outputs": [],
   "source": [
    "auth = tweepy.OAuthHandler(api_key, api_key_secret)"
   ]
  },
  {
   "cell_type": "code",
   "execution_count": 10,
   "id": "cf147cd3",
   "metadata": {},
   "outputs": [],
   "source": [
    "auth.set_access_token(access_token, access_token_secret)\n",
    "api = tweepy.API(auth)"
   ]
  },
  {
   "cell_type": "code",
   "execution_count": 11,
   "id": "c9843b1b",
   "metadata": {},
   "outputs": [],
   "source": [
    "tweet_list=[]"
   ]
  },
  {
   "cell_type": "markdown",
   "id": "556c3888",
   "metadata": {},
   "source": [
    "# Access tweets "
   ]
  },
  {
   "cell_type": "code",
   "execution_count": 12,
   "id": "fff2222d",
   "metadata": {},
   "outputs": [],
   "source": [
    "## Create a dataframe to store the tweets which have been accessed\n",
    "\n",
    "data={'Tweets':[],'Tags':[],'Cleaned Tweets':[],'Sentiment':[],'Polarity':[],\n",
    "      'Vader Pos':[],'Vader Neg':[],'Vader Neu':[],'Vader Compound':[],'Subjectivity':[],'Subject':[]}\n",
    "df={'Tweets':[]}\n",
    "data_nltk={'Tweets':[],'Cleaned Tweets':[],'Tokenized':[]}"
   ]
  },
  {
   "cell_type": "code",
   "execution_count": 15,
   "id": "fad90f12",
   "metadata": {},
   "outputs": [],
   "source": [
    "def get_tweets(search,limit):\n",
    "    for tweet in tweepy.Cursor(api.search_tweets,q=search,count=limit,lang=\"en\",rpp=100).items(limit):\n",
    "        df['Tweets'].append(tweet.text)#appends the tweet parsed into df Tweet column"
   ]
  },
  {
   "cell_type": "code",
   "execution_count": 16,
   "id": "94795829",
   "metadata": {},
   "outputs": [
    {
     "name": "stderr",
     "output_type": "stream",
     "text": [
      "Unexpected parameter: rpp\n"
     ]
    }
   ],
   "source": [
    "get_tweets('kanye',100)"
   ]
  },
  {
   "cell_type": "code",
   "execution_count": 18,
   "id": "11983dbd",
   "metadata": {},
   "outputs": [],
   "source": [
    "df=pd.DataFrame(df)"
   ]
  },
  {
   "cell_type": "code",
   "execution_count": 19,
   "id": "0bbb8685",
   "metadata": {},
   "outputs": [
    {
     "data": {
      "text/html": [
       "<div>\n",
       "<style scoped>\n",
       "    .dataframe tbody tr th:only-of-type {\n",
       "        vertical-align: middle;\n",
       "    }\n",
       "\n",
       "    .dataframe tbody tr th {\n",
       "        vertical-align: top;\n",
       "    }\n",
       "\n",
       "    .dataframe thead th {\n",
       "        text-align: right;\n",
       "    }\n",
       "</style>\n",
       "<table border=\"1\" class=\"dataframe\">\n",
       "  <thead>\n",
       "    <tr style=\"text-align: right;\">\n",
       "      <th></th>\n",
       "      <th>Tweets</th>\n",
       "    </tr>\n",
       "  </thead>\n",
       "  <tbody>\n",
       "    <tr>\n",
       "      <th>0</th>\n",
       "      <td>RT @themccoyman: we cannot make more excuses f...</td>\n",
       "    </tr>\n",
       "    <tr>\n",
       "      <th>1</th>\n",
       "      <td>RT @HotFreestyle: Kim K asked Kanye why he can...</td>\n",
       "    </tr>\n",
       "    <tr>\n",
       "      <th>2</th>\n",
       "      <td>I really can’t stop laughing about how Kanye c...</td>\n",
       "    </tr>\n",
       "    <tr>\n",
       "      <th>3</th>\n",
       "      <td>RT @rebeccca_a: If my ig acc disappears all of...</td>\n",
       "    </tr>\n",
       "    <tr>\n",
       "      <th>4</th>\n",
       "      <td>RT @crawficial: Everybody just watching Kanye ...</td>\n",
       "    </tr>\n",
       "    <tr>\n",
       "      <th>...</th>\n",
       "      <td>...</td>\n",
       "    </tr>\n",
       "    <tr>\n",
       "      <th>95</th>\n",
       "      <td>Did Kanye spray something in the air... https:...</td>\n",
       "    </tr>\n",
       "    <tr>\n",
       "      <th>96</th>\n",
       "      <td>RT @genmnz: need a bf that’s gonna act like ka...</td>\n",
       "    </tr>\n",
       "    <tr>\n",
       "      <th>97</th>\n",
       "      <td>RT @NoEmmeG: Kanye said “AND WHY are u not in ...</td>\n",
       "    </tr>\n",
       "    <tr>\n",
       "      <th>98</th>\n",
       "      <td>RT @LethaboMakgoba: I can’t believe Kanye West...</td>\n",
       "    </tr>\n",
       "    <tr>\n",
       "      <th>99</th>\n",
       "      <td>RT @juuliealbright: thank you kanye, very cool...</td>\n",
       "    </tr>\n",
       "  </tbody>\n",
       "</table>\n",
       "<p>100 rows × 1 columns</p>\n",
       "</div>"
      ],
      "text/plain": [
       "                                               Tweets\n",
       "0   RT @themccoyman: we cannot make more excuses f...\n",
       "1   RT @HotFreestyle: Kim K asked Kanye why he can...\n",
       "2   I really can’t stop laughing about how Kanye c...\n",
       "3   RT @rebeccca_a: If my ig acc disappears all of...\n",
       "4   RT @crawficial: Everybody just watching Kanye ...\n",
       "..                                                ...\n",
       "95  Did Kanye spray something in the air... https:...\n",
       "96  RT @genmnz: need a bf that’s gonna act like ka...\n",
       "97  RT @NoEmmeG: Kanye said “AND WHY are u not in ...\n",
       "98  RT @LethaboMakgoba: I can’t believe Kanye West...\n",
       "99  RT @juuliealbright: thank you kanye, very cool...\n",
       "\n",
       "[100 rows x 1 columns]"
      ]
     },
     "execution_count": 19,
     "metadata": {},
     "output_type": "execute_result"
    }
   ],
   "source": [
    "df"
   ]
  },
  {
   "cell_type": "markdown",
   "id": "ee6fe0a9",
   "metadata": {},
   "source": [
    "# TODO: When accessing tweets clean them and append them to df for ease of use"
   ]
  },
  {
   "cell_type": "code",
   "execution_count": null,
   "id": "03e7e1e2",
   "metadata": {},
   "outputs": [],
   "source": []
  }
 ],
 "metadata": {
  "kernelspec": {
   "display_name": "Python 3",
   "language": "python",
   "name": "python3"
  },
  "language_info": {
   "codemirror_mode": {
    "name": "ipython",
    "version": 3
   },
   "file_extension": ".py",
   "mimetype": "text/x-python",
   "name": "python",
   "nbconvert_exporter": "python",
   "pygments_lexer": "ipython3",
   "version": "3.8.8"
  }
 },
 "nbformat": 4,
 "nbformat_minor": 5
}
