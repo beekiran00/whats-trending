{
 "cells": [
  {
   "cell_type": "markdown",
   "id": "780e7594",
   "metadata": {},
   "source": [
    "# Importing Libraries"
   ]
  },
  {
   "cell_type": "code",
   "execution_count": 16,
   "id": "c8b14033",
   "metadata": {},
   "outputs": [
    {
     "name": "stderr",
     "output_type": "stream",
     "text": [
      "[nltk_data] Downloading package punkt to\n",
      "[nltk_data]     /Users/bhanukiran/nltk_data...\n",
      "[nltk_data]   Unzipping tokenizers/punkt.zip.\n"
     ]
    }
   ],
   "source": [
    "import sys\n",
    "import tweepy\n",
    "import matplotlib.pyplot as plt\n",
    "import pandas as pd\n",
    "import numpy as np\n",
    "import os\n",
    "import nltk\n",
    "nltk.download('punkt')\n",
    "from nltk.tokenize import word_tokenize\n",
    "import pycountry\n",
    "import re\n",
    "import string\n",
    "\n",
    "from wordcloud import WordCloud, STOPWORDS\n",
    "from PIL import Image\n",
    "from nltk.sentiment.vader import SentimentIntensityAnalyzer\n",
    "from langdetect import detect\n",
    "from nltk.stem import SnowballStemmer\n",
    "from nltk.sentiment.vader import SentimentIntensityAnalyzer\n",
    "from sklearn.feature_extraction.text import CountVectorizer"
   ]
  },
  {
   "cell_type": "markdown",
   "id": "2bcf219e",
   "metadata": {},
   "source": [
    "## Keys and Codes"
   ]
  },
  {
   "cell_type": "code",
   "execution_count": 2,
   "id": "2d823250",
   "metadata": {},
   "outputs": [],
   "source": [
    "\n",
    "\n",
    "api_key = \"eguQl746QmtmloSgnecccn7oi\"\n",
    "api_key_secret = \"b7HJ4bKwXhegCGfQIf7l6MmQnxZTqzdiZOdfWCuUVZt2Aajoqk\"\n",
    "bearer_token = \"AAAAAAAAAAAAAAAAAAAAAFPwZAEAAAAAyVNk5e2tvY9Gzpzua6eIk6mBLK8%3DAvz2WxBeTFSAa3WLt289pSnCPjyEoAAIdN7HPWlVAiLqdaZFvj\"\n"
   ]
  },
  {
   "cell_type": "code",
   "execution_count": 3,
   "id": "1986362e",
   "metadata": {},
   "outputs": [],
   "source": [
    "#consumer_key =\n",
    "#consumer_secret =\n",
    "access_token = \"1237432566669402112-xXfUTkujrgSILx80fwhYGShROUgoi0\"\n",
    "access_token_secret = \"gFFXcN1YxUCFRI6vJMRcCMsY13bcIAVq6NEFdKFOyEhHy\"\n",
    "\n"
   ]
  },
  {
   "cell_type": "code",
   "execution_count": 4,
   "id": "703c7394",
   "metadata": {},
   "outputs": [],
   "source": [
    "auth = tweepy.OAuthHandler(api_key, api_key_secret)"
   ]
  },
  {
   "cell_type": "code",
   "execution_count": 5,
   "id": "cf147cd3",
   "metadata": {},
   "outputs": [],
   "source": [
    "auth.set_access_token(access_token, access_token_secret)\n",
    "api = tweepy.API(auth)"
   ]
  },
  {
   "cell_type": "code",
   "execution_count": 6,
   "id": "c9843b1b",
   "metadata": {},
   "outputs": [],
   "source": [
    "tweet_list=[]"
   ]
  },
  {
   "cell_type": "markdown",
   "id": "556c3888",
   "metadata": {},
   "source": [
    "# Access tweets "
   ]
  },
  {
   "cell_type": "code",
   "execution_count": 7,
   "id": "fff2222d",
   "metadata": {},
   "outputs": [],
   "source": [
    "## Create a dataframe to store the tweets which have been accessed\n",
    "\n",
    "data={'Tweets':[],'Tags':[],'Cleaned Tweets':[],'Sentiment':[],'Polarity':[],\n",
    "      'Vader Pos':[],'Vader Neg':[],'Vader Neu':[],'Vader Compound':[],'Subjectivity':[],'Subject':[]}\n",
    "df={'Tweets':[]}\n",
    "data_nltk={'Tweets':[],'Cleaned Tweets':[],'Tokenized':[]}"
   ]
  },
  {
   "cell_type": "code",
   "execution_count": 8,
   "id": "fad90f12",
   "metadata": {},
   "outputs": [],
   "source": [
    "def get_tweets(search,limit):\n",
    "    for tweet in tweepy.Cursor(api.search_tweets,q=search,count=limit,lang=\"en\",rpp=100).items(limit):\n",
    "        df['Tweets'].append(tweet.text)#appends the tweet parsed into df Tweet column"
   ]
  },
  {
   "cell_type": "code",
   "execution_count": 9,
   "id": "94795829",
   "metadata": {},
   "outputs": [
    {
     "name": "stderr",
     "output_type": "stream",
     "text": [
      "Unexpected parameter: rpp\n"
     ]
    }
   ],
   "source": [
    "get_tweets('kanye',100)"
   ]
  },
  {
   "cell_type": "code",
   "execution_count": 10,
   "id": "11983dbd",
   "metadata": {},
   "outputs": [],
   "source": [
    "df=pd.DataFrame(df)"
   ]
  },
  {
   "cell_type": "code",
   "execution_count": 11,
   "id": "0bbb8685",
   "metadata": {},
   "outputs": [
    {
     "data": {
      "text/html": [
       "<div>\n",
       "<style scoped>\n",
       "    .dataframe tbody tr th:only-of-type {\n",
       "        vertical-align: middle;\n",
       "    }\n",
       "\n",
       "    .dataframe tbody tr th {\n",
       "        vertical-align: top;\n",
       "    }\n",
       "\n",
       "    .dataframe thead th {\n",
       "        text-align: right;\n",
       "    }\n",
       "</style>\n",
       "<table border=\"1\" class=\"dataframe\">\n",
       "  <thead>\n",
       "    <tr style=\"text-align: right;\">\n",
       "      <th></th>\n",
       "      <th>Tweets</th>\n",
       "    </tr>\n",
       "  </thead>\n",
       "  <tbody>\n",
       "    <tr>\n",
       "      <th>0</th>\n",
       "      <td>RT @slvppy: if i ever lose a bad bitch imma ac...</td>\n",
       "    </tr>\n",
       "    <tr>\n",
       "      <th>1</th>\n",
       "      <td>RT @OnnThinlce: DONDA 2 STAGE 😮\\n\\nKanye looks...</td>\n",
       "    </tr>\n",
       "    <tr>\n",
       "      <th>2</th>\n",
       "      <td>RT @ihyjuju: how does kanye got beef wit peppa...</td>\n",
       "    </tr>\n",
       "    <tr>\n",
       "      <th>3</th>\n",
       "      <td>RT @spaceeong: kanye should prob rethink this ...</td>\n",
       "    </tr>\n",
       "    <tr>\n",
       "      <th>4</th>\n",
       "      <td>RT @spaceeong: kanye should prob rethink this ...</td>\n",
       "    </tr>\n",
       "    <tr>\n",
       "      <th>...</th>\n",
       "      <td>...</td>\n",
       "    </tr>\n",
       "    <tr>\n",
       "      <th>95</th>\n",
       "      <td>RT @godpilIed: “Why does Kanye have beef with ...</td>\n",
       "    </tr>\n",
       "    <tr>\n",
       "      <th>96</th>\n",
       "      <td>RT @slvppy: if i ever lose a bad bitch imma ac...</td>\n",
       "    </tr>\n",
       "    <tr>\n",
       "      <th>97</th>\n",
       "      <td>RT @grist: A pair of discontinued Red Wings ha...</td>\n",
       "    </tr>\n",
       "    <tr>\n",
       "      <th>98</th>\n",
       "      <td>RT @ihyjuju: how does kanye got beef wit peppa...</td>\n",
       "    </tr>\n",
       "    <tr>\n",
       "      <th>99</th>\n",
       "      <td>RT @DebatingHipHop_: Soulja Boy posts his text...</td>\n",
       "    </tr>\n",
       "  </tbody>\n",
       "</table>\n",
       "<p>100 rows × 1 columns</p>\n",
       "</div>"
      ],
      "text/plain": [
       "                                               Tweets\n",
       "0   RT @slvppy: if i ever lose a bad bitch imma ac...\n",
       "1   RT @OnnThinlce: DONDA 2 STAGE 😮\\n\\nKanye looks...\n",
       "2   RT @ihyjuju: how does kanye got beef wit peppa...\n",
       "3   RT @spaceeong: kanye should prob rethink this ...\n",
       "4   RT @spaceeong: kanye should prob rethink this ...\n",
       "..                                                ...\n",
       "95  RT @godpilIed: “Why does Kanye have beef with ...\n",
       "96  RT @slvppy: if i ever lose a bad bitch imma ac...\n",
       "97  RT @grist: A pair of discontinued Red Wings ha...\n",
       "98  RT @ihyjuju: how does kanye got beef wit peppa...\n",
       "99  RT @DebatingHipHop_: Soulja Boy posts his text...\n",
       "\n",
       "[100 rows x 1 columns]"
      ]
     },
     "execution_count": 11,
     "metadata": {},
     "output_type": "execute_result"
    }
   ],
   "source": [
    "df"
   ]
  },
  {
   "cell_type": "markdown",
   "id": "ee6fe0a9",
   "metadata": {},
   "source": [
    "# Data preprocessing"
   ]
  },
  {
   "cell_type": "code",
   "execution_count": 17,
   "id": "03e7e1e2",
   "metadata": {},
   "outputs": [
    {
     "name": "stdout",
     "output_type": "stream",
     "text": [
      "['slvppy', 'if', 'i', 'ever', 'lose', 'a', 'bad', 'bitch', 'imma', 'act', 'just', 'like', 'kanye']\n",
      "['onnthinlce', 'donda', '2', 'stage', '😮', 'kanye', 'looks', 'to', 'be', 'creating', 'another', 'insane', 'event']\n",
      "['ihyjuju', 'how', 'does', 'kanye', 'got', 'beef', 'wit', 'peppa', 'pig', 'how', 'does', 'that', 'even', 'happen']\n",
      "['spaceeong', 'kanye', 'should', 'prob', 'rethink', 'this', 'beef', 'wit', 'peppa', 'pig', '💀']\n",
      "['spaceeong', 'kanye', 'should', 'prob', 'rethink', 'this', 'beef', 'wit', 'peppa', 'pig', '💀']\n",
      "['ihyjuju', 'how', 'does', 'kanye', 'got', 'beef', 'wit', 'peppa', 'pig', 'how', 'does', 'that', 'even', 'happen']\n",
      "['raptvcom', 'soulja', 'boy', 'reveals', 'texts', 'from', 'kanye', '‼️😂']\n",
      "['gays', 'and', 'mehek', 'gc', 'is', 'just', 'mehek', 'me', 'my', 'priv', 'kanye', 'kanyes', 'priv', 'moon', 'moons', 'bot', 'kai', 'and', 'liam', '😭😭']\n",
      "['kanye', 'really', 'quit', 'twitter', 'and', 'shitposted', 'instagram', 'nigga', 'stole', 'my', 'flow']\n",
      "['slvppy', 'if', 'i', 'ever', 'lose', 'a', 'bad', 'bitch', 'imma', 'act', 'just', 'like', 'kanye']\n",
      "['xmarissabee', 'all', 'of', 'a', 'sudden', 'the', 'house', 'kanye', 'and', 'axel', 'designed', 'is', 'beautiful', 'but', 'just', 'a', 'few', 'years', 'you', 'all', 'completely', 'shitted', 'on', 'it', '😂']\n",
      "['ihyjuju', 'how', 'does', 'kanye', 'got', 'beef', 'wit', 'peppa', 'pig', 'how', 'does', 'that', 'even', 'happen']\n",
      "['the', 'best', 'creators', 'are', 'those', 'that', 'let', 'their', 'inner', 'child', 'flourish', 'no', 'matter', 'how', 'old', 'they', 'get', 'you', 'see', 'it', 'in', 'their', 'be…']\n",
      "['ihyjuju', 'how', 'does', 'kanye', 'got', 'beef', 'wit', 'peppa', 'pig', 'how', 'does', 'that', 'even', 'happen']\n",
      "['xmarissabee', 'basketball', 'legends', 'walked', 'out', 'to', 'kanye', 'west', '’', 's', 'music', 'during', 'the', 'nba', '75th', 'anniversary', 'team', 'ceremony']\n",
      "['austen', 'the', 'kanye', 'documentary', 'is', 'really', 'good', 'it', '’', 's', 'wild', 'to', 'watch', 'someone', 'come', 'from', 'nothing', 'to', 'the', 'top', 'of', 'an', 'industry', 'hands', 'down', 'the', 'b…']\n",
      "['wydccalamity', 'i', 'be', 'acting', 'worse', 'than', 'kanye', 'it', 'just', 'never', 'hits', 'the', 'media']\n",
      "['wydccalamity', 'i', 'be', 'acting', 'worse', 'than', 'kanye', 'it', 'just', 'never', 'hits', 'the', 'media']\n",
      "['slvppy', 'if', 'i', 'ever', 'lose', 'a', 'bad', 'bitch', 'imma', 'act', 'just', 'like', 'kanye']\n",
      "['wydccalamity', 'i', 'be', 'acting', 'worse', 'than', 'kanye', 'it', 'just', 'never', 'hits', 'the', 'media']\n",
      "['wydccalamity', 'i', 'be', 'acting', 'worse', 'than', 'kanye', 'it', 'just', 'never', 'hits', 'the', 'media']\n",
      "['but', 'when', 'kanye', 'was', 'applying', 'pressure', 'yall', 'called', 'him', 'crazy', 'smh']\n",
      "['ihyjuju', 'how', 'does', 'kanye', 'got', 'beef', 'wit', 'peppa', 'pig', 'how', 'does', 'that', 'even', 'happen']\n",
      "['debatinghiphop', 'soulja', 'boy', 'posts', 'his', 'texts', 'with', 'kanye', 'this', 'is', 'a', 'roller', 'coaster', '😂😂']\n",
      "['slvppy', 'if', 'i', 'ever', 'lose', 'a', 'bad', 'bitch', 'imma', 'act', 'just', 'like', 'kanye']\n",
      "['wydccalamity', 'i', 'be', 'acting', 'worse', 'than', 'kanye', 'it', 'just', 'never', 'hits', 'the', 'media']\n",
      "['wowthatshiphop', 'kanye', 'west', 'replying', 'to', 'soulja', 'boy', 'saying', '“', 'go', 'get', 'your', 'btch', 'back', '”', 'with', '“', 'i', 'need', 'to', 'send', 'you', 'this', 'stemplayer', '”', 'got', 'me', 'dying']\n",
      "['spaceeong', 'kanye', 'should', 'prob', 'rethink', 'this', 'beef', 'wit', 'peppa', 'pig', '💀']\n",
      "['philipjfried', 'kanyes', 'about', 'to', 'get', 'his', 'own', 'chapter', 'in', 'psychology', 'textbooks', 'yall', 'this', 'shit', 'isnt', 'even', 'funny', 'anymore', 'seriously']\n",
      "['spaceeong', 'kanye', 'should', 'prob', 'rethink', 'this', 'beef', 'wit', 'peppa', 'pig', '💀']\n",
      "['cocoalosoxo', 'all', 'creatives', 'should', 'document', 'their', 'journey', 'like', 'kanye', 'did', 'whether', 'you', 'plan', 'to', 'share', 'it', 'or', 'keep', 'it', 'private']\n",
      "['ihyjuju', 'how', 'does', 'kanye', 'got', 'beef', 'wit', 'peppa', 'pig', 'how', 'does', 'that', 'even', 'happen']\n",
      "['wydccalamity', 'i', 'be', 'acting', 'worse', 'than', 'kanye', 'it', 'just', 'never', 'hits', 'the', 'media']\n",
      "['spaceeong', 'kanye', 'should', 'prob', 'rethink', 'this', 'beef', 'wit', 'peppa', 'pig', '💀']\n",
      "['spaceeong', 'kanye', 'should', 'prob', 'rethink', 'this', 'beef', 'wit', 'peppa', 'pig', '💀']\n",
      "['spaceeong', 'kanye', 'should', 'prob', 'rethink', 'this', 'beef', 'wit', 'peppa', 'pig', '💀']\n",
      "['kanye', 'allegedly', 'dropping', 'tomorrow', 'and', 'my', 'hype', 'for', 'it', 'is', 'non', 'existent', 'sad', 'to', 'see', 'this', 'is', 'where', 'it', 'ended', 'up']\n",
      "['debatinghiphop', 'soulja', 'boy', 'posts', 'his', 'texts', 'with', 'kanye', 'this', 'is', 'a', 'roller', 'coaster', '😂😂']\n",
      "['godpilied', '“', 'why', 'does', 'kanye', 'have', 'beef', 'with', 'peppa', 'pig', '”']\n",
      "['netflix', 'once', 'kanye', 'signed', 'to', 'rocafella', 'it', 'felt', 'like', 'his', 'dreams', 'were', 'about', 'to', 'become', 'a', 'reality', 'but', 'no', 'one', 'could', 'have', 'predicted', 'what…']\n",
      "['netflix', 'once', 'kanye', 'signed', 'to', 'rocafella', 'it', 'felt', 'like', 'his', 'dreams', 'were', 'about', 'to', 'become', 'a', 'reality', 'but', 'no', 'one', 'could', 'have', 'predicted', 'what…']\n",
      "['wydccalamity', 'i', 'be', 'acting', 'worse', 'than', 'kanye', 'it', 'just', 'never', 'hits', 'the', 'media']\n",
      "['cocoalosoxo', 'all', 'creatives', 'should', 'document', 'their', 'journey', 'like', 'kanye', 'did', 'whether', 'you', 'plan', 'to', 'share', 'it', 'or', 'keep', 'it', 'private']\n",
      "['raptvcom', 'yall', 'really', 'just', 'ignored', 'rhymefest', 'like', 'he', 'aint', 'a', 'winning', 'oscar', 'songwritter', 'and', 'responsible', 'for', 'most', 'p…']\n",
      "['ihyjuju', 'how', 'does', 'kanye', 'got', 'beef', 'wit', 'peppa', 'pig', 'how', 'does', 'that', 'even', 'happen']\n",
      "['tubirfess', '2beer', 'thats', 'just', 'kanye', 'being', 'kanye', '🤦🏻\\u200d♀️🤦🏻\\u200d♂️']\n",
      "['hiphopalldayy', 'drake', 'amp', 'the', 'weeknd', 'snoop', 'dogg', 'amp', 'eminem', 'playboi', 'cai', 'amp', 'lil', 'uzi', 've', 'kanye', 'west', 'amp', 'drake', 'all', 'in', 'the', 'past', 'year', 'hip', 'hop', 'be…']\n",
      "['slvppy', 'if', 'i', 'ever', 'lose', 'a', 'bad', 'bitch', 'imma', 'act', 'just', 'like', 'kanye']\n",
      "['wydccalamity', 'i', 'be', 'acting', 'worse', 'than', 'kanye', 'it', 'just', 'never', 'hits', 'the', 'media']\n",
      "['coachshelbo', 'we', '’', 're', 'watching', 'this', 'kanye', 'documentary', 'in', 'my', 'class', 'today']\n",
      "['bluzellehq', 'kanye', 'knows', 'it', 'you', 'should', 'too']\n",
      "['haard', 'izzyouizz', 'tubirfess', 'gak', 'nyambung', 'kan', 'masalahnya', 'si', 'kanye', '’', 's', 'been', 'acting', 'up', 'and', 'beefing', 'with', 'everyone', 'i', 'know', 'selective', 'blindne…']\n",
      "['wydccalamity', 'i', 'be', 'acting', 'worse', 'than', 'kanye', 'it', 'just', 'never', 'hits', 'the', 'media']\n",
      "['cristianoxtra', 'how', 'can', 'ronaldo', 'be', 'the', 'greatest', 'when', 'messi', 'has', 'better', 'stats', 'better', 'overall', 'play', 'more', 'individual', 'a…']\n",
      "['debatinghiphop', 'soulja', 'boy', 'posts', 'his', 'texts', 'with', 'kanye', 'this', 'is', 'a', 'roller', 'coaster', '😂😂']\n",
      "['onnthinlce', 'donda', '2', 'stage', '😮', 'kanye', 'looks', 'to', 'be', 'creating', 'another', 'insane', 'event']\n",
      "['wydccalamity', 'i', 'be', 'acting', 'worse', 'than', 'kanye', 'it', 'just', 'never', 'hits', 'the', 'media']\n",
      "['whnelsoniv', 'can', 'people', 'who', 'like', 'kanye', 'pls', 'stop', 'pretending', 'that', 'he', '’', 's', 'a', 'good', 'person', 'srs']\n",
      "['kanyeholding', 'kanye', 'holding', 'doomsday', 'by', 'mf', 'doom']\n",
      "['netflixsa', 'donda', 'west', 'has', 'im', 'kanyes', 'number', 'one', 'fan', 'energy', '❤️', 'jeenyuhs']\n",
      "['wydccalamity', 'i', 'be', 'acting', 'worse', 'than', 'kanye', 'it', 'just', 'never', 'hits', 'the', 'media']\n",
      "['iamsnazz', 'thinking', 'a', 'bit', 'more', 'about', 'the', 'friendship', 'aicle', 'and', 'the', 'kanye', 'doc', 'i', 'realise', 'that', 'a', 'key', 'reason', 'that', 'friendships', 'end', 'is', 'that…']\n",
      "['chadata', 'sanbenito', 'taylorswift13', 'theweeknd', 'btstwt', 'drake', 'justinbieber', 'kanyewest', 'eminem', 'edsheeran', 'taylor', 'above', 'kanye', 'as', 'always']\n",
      "['spaceeong', 'kanye', 'should', 'prob', 'rethink', 'this', 'beef', 'wit', 'peppa', 'pig', '💀']\n",
      "['ihyjuju', 'how', 'does', 'kanye', 'got', 'beef', 'wit', 'peppa', 'pig', 'how', 'does', 'that', 'even', 'happen']\n",
      "['netflix', 'once', 'kanye', 'signed', 'to', 'rocafella', 'it', 'felt', 'like', 'his', 'dreams', 'were', 'about', 'to', 'become', 'a', 'reality', 'but', 'no', 'one', 'could', 'have', 'predicted', 'what…']\n",
      "['ihyjuju', 'how', 'does', 'kanye', 'got', 'beef', 'wit', 'peppa', 'pig', 'how', 'does', 'that', 'even', 'happen']\n",
      "['kobegatsby', 'this', 'kanye', 'documentary', 'is', 'required', 'viewing', 'for', 'anyone', 'chasing', 'a', 'dream', 'you', 'got', 'ta', 'believe', 'in', 'yourself', 'more', 'than', 'anyone', 'else…']\n",
      "['spaceeong', 'kanye', 'should', 'prob', 'rethink', 'this', 'beef', 'wit', 'peppa', 'pig', '💀']\n",
      "['spaceeong', 'kanye', 'should', 'prob', 'rethink', 'this', 'beef', 'wit', 'peppa', 'pig', '💀']\n",
      "['fellamakafui', 'kanye', 'west', 'en', 'uncle', '😂']\n",
      "['wydccalamity', 'i', 'be', 'acting', 'worse', 'than', 'kanye', 'it', 'just', 'never', 'hits', 'the', 'media']\n",
      "['spaceeong', 'kanye', 'should', 'prob', 'rethink', 'this', 'beef', 'wit', 'peppa', 'pig', '💀']\n",
      "['mihailo', 'okayysophi', 'sounds', 'like', 'kanye', '’', 's', 'dream', 'girl']\n",
      "['wydccalamity', 'i', 'be', 'acting', 'worse', 'than', 'kanye', 'it', 'just', 'never', 'hits', 'the', 'media']\n",
      "['anfaasutd', 'cuz', 'kanye', 'be', 'posting', 'some', 'wild', 'shits', 'lately', '😭', 'wouldnt', 'be', 'surprise', 'if', 'he', 'watched', 'man', 'united', 'play']\n",
      "['ihyjuju', 'how', 'does', 'kanye', 'got', 'beef', 'wit', 'peppa', 'pig', 'how', 'does', 'that', 'even', 'happen']\n",
      "['wowthatshiphop', 'kanye', 'west', 'replying', 'to', 'soulja', 'boy', 'saying', '“', 'go', 'get', 'your', 'btch', 'back', '”', 'with', '“', 'i', 'need', 'to', 'send', 'you', 'this', 'stemplayer', '”', 'got', 'me', 'dying']\n",
      "['breezy22268137', 'nycewizy', 'mideraphael', 'charis0o1', 'businessdayng', 'tbh', 'streaming', 'numbers', 'dont', 'equal', 'big', 'money', 'for', 'a…']\n",
      "['kdgohard', 'raptvcom', 'ummmm', 'no', 'he', 'didn', '’', 't…', 'you', 'watch', 'the', 'first', 'pa', 'of', 'his', 'doc', 'kanye', 'even', 'tried', 'to', 'get', 'scarface', 'on', 'it']\n",
      "['my', 'manic', 'cycle', 'synced', 'up', 'with', 'kanye', '’', 's', 'fr', 'we', '’', 're', 'like', 'two', 'women', 'living', 'together', 'and', 'menstruating']\n",
      "['ihyjuju', 'how', 'does', 'kanye', 'got', 'beef', 'wit', 'peppa', 'pig', 'how', 'does', 'that', 'even', 'happen']\n",
      "['ihyjuju', 'how', 'does', 'kanye', 'got', 'beef', 'wit', 'peppa', 'pig', 'how', 'does', 'that', 'even', 'happen']\n",
      "['fentytings', 'kanye', 'west', 'and', 'eminem', 'are', 'the', 'only', 'two', 'rappers', 'to', 'have', 'a', 'song', 'they', 'produced', 'themselves', 'go', 'diamond']\n",
      "['netflix', 'once', 'kanye', 'signed', 'to', 'rocafella', 'it', 'felt', 'like', 'his', 'dreams', 'were', 'about', 'to', 'become', 'a', 'reality', 'but', 'no', 'one', 'could', 'have', 'predicted', 'what…']\n",
      "['wydccalamity', 'i', 'be', 'acting', 'worse', 'than', 'kanye', 'it', 'just', 'never', 'hits', 'the', 'media']\n",
      "['debatinghiphop', 'soulja', 'boy', 'posts', 'his', 'texts', 'with', 'kanye', 'this', 'is', 'a', 'roller', 'coaster', '😂😂']\n",
      "['raptvcom', 'kanye', 'lists', 'his', 'beefs', 'on', 'instagram', 'that', 'includes', 'black', 'history', 'month', 'obama', 'snl', 'taylor', 'swift', 'tik', 'tok', 'amp', 'more‼️😳']\n",
      "['kanye', 'is', 'so', 'overrated']\n",
      "['ovobrezzzy', 'kanye', 'gave', 'us', 'more', 'enteainment', 'in', 'a', 'week', 'then', 'any', 'tv', 'shows', 'or', 'movies']\n",
      "['spaceeong', 'kanye', 'should', 'prob', 'rethink', 'this', 'beef', 'wit', 'peppa', 'pig', '💀']\n",
      "['ihyjuju', 'how', 'does', 'kanye', 'got', 'beef', 'wit', 'peppa', 'pig', 'how', 'does', 'that', 'even', 'happen']\n",
      "['spaceeong', 'kanye', 'should', 'prob', 'rethink', 'this', 'beef', 'wit', 'peppa', 'pig', '💀']\n",
      "['ihyjuju', 'how', 'does', 'kanye', 'got', 'beef', 'wit', 'peppa', 'pig', 'how', 'does', 'that', 'even', 'happen']\n",
      "['ihyjuju', 'how', 'does', 'kanye', 'got', 'beef', 'wit', 'peppa', 'pig', 'how', 'does', 'that', 'even', 'happen']\n",
      "['godpilied', '“', 'why', 'does', 'kanye', 'have', 'beef', 'with', 'peppa', 'pig', '”']\n",
      "['slvppy', 'if', 'i', 'ever', 'lose', 'a', 'bad', 'bitch', 'imma', 'act', 'just', 'like', 'kanye']\n",
      "['grist', 'a', 'pair', 'of', 'discontinued', 'red', 'wings', 'has', 'spurred', 'the', 'latest', 'hypebeast', 'craze']\n",
      "['ihyjuju', 'how', 'does', 'kanye', 'got', 'beef', 'wit', 'peppa', 'pig', 'how', 'does', 'that', 'even', 'happen']\n",
      "['debatinghiphop', 'soulja', 'boy', 'posts', 'his', 'texts', 'with', 'kanye', 'this', 'is', 'a', 'roller', 'coaster', '😂😂']\n"
     ]
    }
   ],
   "source": [
    "## Data Preprocessing\n",
    "\n",
    "for i in df['Tweets']:\n",
    "    #print(i)\n",
    "    clean = [char for char in i if char not in string.punctuation]\n",
    "    #print(clean)\n",
    "    clean = ''.join(clean)\n",
    "    #print(clean)\n",
    "    # convert everything to lowercase\n",
    "    clean = clean.lower()\n",
    "    # removing the links for each tweet\n",
    "    clean=re.sub('((www\\.[^\\s]+)|(https?://[^\\s]+)|(http?://[^\\s]+))', '', clean)\n",
    "    clean=re.sub(r'http\\S+','',clean)\n",
    "    #remove usernames\n",
    "    clean=re.sub(r'@[^\\s]+', '', clean)\n",
    "    #removing # \n",
    "    clean=re.sub(r'#([^\\s]+)',r'\\1',clean)\n",
    "    #removing RT\n",
    "    clean=re.sub(r'rt','',clean)\n",
    "    #remove repeated chars\n",
    "    clean=word_tokenize(clean)\n",
    "    print(clean)"
   ]
  },
  {
   "cell_type": "markdown",
   "id": "9df89d77",
   "metadata": {},
   "source": [
    "# TODO: add tokenised tweets to df"
   ]
  },
  {
   "cell_type": "code",
   "execution_count": null,
   "id": "c44ddd75",
   "metadata": {},
   "outputs": [],
   "source": []
  }
 ],
 "metadata": {
  "kernelspec": {
   "display_name": "Python 3",
   "language": "python",
   "name": "python3"
  },
  "language_info": {
   "codemirror_mode": {
    "name": "ipython",
    "version": 3
   },
   "file_extension": ".py",
   "mimetype": "text/x-python",
   "name": "python",
   "nbconvert_exporter": "python",
   "pygments_lexer": "ipython3",
   "version": "3.8.8"
  }
 },
 "nbformat": 4,
 "nbformat_minor": 5
}
